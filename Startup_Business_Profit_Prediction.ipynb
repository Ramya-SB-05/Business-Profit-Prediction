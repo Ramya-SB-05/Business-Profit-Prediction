{
 "cells": [
  {
   "cell_type": "markdown",
   "metadata": {},
   "source": []
  },
  {
   "cell_type": "markdown",
   "metadata": {
    "id": "uTIX4BOs2ON2"
   },
   "source": [
    "\n",
    "<h1 style=\"color:DarkOliveGreen;\"> Startup Business Profit Prediction </h1>"
   ]
  },
  {
   "cell_type": "markdown",
   "metadata": {
    "id": "YSYNUu8J2VRb"
   },
   "source": [
    "<h2 style=\"color:Peru;\"> Importing Required Libraries </h2>"
   ]
  },
  {
   "cell_type": "code",
   "execution_count": 1,
   "metadata": {
    "id": "abfRr4L02SoX"
   },
   "outputs": [],
   "source": [
    "import pandas as pd\n",
    "import numpy as np\n",
    "import matplotlib.pyplot as plt\n",
    "import seaborn as sns\n",
    "\n",
    "import warnings\n",
    "warnings.filterwarnings('ignore')"
   ]
  },
  {
   "cell_type": "markdown",
   "metadata": {
    "id": "wdbuqmsP2bIk"
   },
   "source": [
    "<h2 style=\"color:Peru;\"> Loading Dataset </h2>"
   ]
  },
  {
   "cell_type": "code",
   "execution_count": 2,
   "metadata": {
    "id": "rjNecPqL2YzD"
   },
   "outputs": [],
   "source": [
    "df = pd.read_csv('./50_Startups.csv')"
   ]
  },
  {
   "cell_type": "code",
   "execution_count": 3,
   "metadata": {
    "colab": {
     "base_uri": "https://localhost:8080/",
     "height": 206
    },
    "id": "YjRCtpsg2dtM",
    "outputId": "fa5a52b0-3116-4d07-96fe-0abbfa6053d4"
   },
   "outputs": [
    {
     "data": {
      "text/html": [
       "<div>\n",
       "<style scoped>\n",
       "    .dataframe tbody tr th:only-of-type {\n",
       "        vertical-align: middle;\n",
       "    }\n",
       "\n",
       "    .dataframe tbody tr th {\n",
       "        vertical-align: top;\n",
       "    }\n",
       "\n",
       "    .dataframe thead th {\n",
       "        text-align: right;\n",
       "    }\n",
       "</style>\n",
       "<table border=\"1\" class=\"dataframe\">\n",
       "  <thead>\n",
       "    <tr style=\"text-align: right;\">\n",
       "      <th></th>\n",
       "      <th>R&amp;D Spend</th>\n",
       "      <th>Administration</th>\n",
       "      <th>Marketing Spend</th>\n",
       "      <th>State</th>\n",
       "      <th>Profit</th>\n",
       "    </tr>\n",
       "  </thead>\n",
       "  <tbody>\n",
       "    <tr>\n",
       "      <th>0</th>\n",
       "      <td>165349.20</td>\n",
       "      <td>136897.80</td>\n",
       "      <td>471784.10</td>\n",
       "      <td>New York</td>\n",
       "      <td>192261.83</td>\n",
       "    </tr>\n",
       "    <tr>\n",
       "      <th>1</th>\n",
       "      <td>162597.70</td>\n",
       "      <td>151377.59</td>\n",
       "      <td>443898.53</td>\n",
       "      <td>California</td>\n",
       "      <td>191792.06</td>\n",
       "    </tr>\n",
       "    <tr>\n",
       "      <th>2</th>\n",
       "      <td>153441.51</td>\n",
       "      <td>101145.55</td>\n",
       "      <td>407934.54</td>\n",
       "      <td>Florida</td>\n",
       "      <td>191050.39</td>\n",
       "    </tr>\n",
       "    <tr>\n",
       "      <th>3</th>\n",
       "      <td>144372.41</td>\n",
       "      <td>118671.85</td>\n",
       "      <td>383199.62</td>\n",
       "      <td>New York</td>\n",
       "      <td>182901.99</td>\n",
       "    </tr>\n",
       "    <tr>\n",
       "      <th>4</th>\n",
       "      <td>142107.34</td>\n",
       "      <td>91391.77</td>\n",
       "      <td>366168.42</td>\n",
       "      <td>Florida</td>\n",
       "      <td>166187.94</td>\n",
       "    </tr>\n",
       "  </tbody>\n",
       "</table>\n",
       "</div>"
      ],
      "text/plain": [
       "   R&D Spend  Administration  Marketing Spend       State     Profit\n",
       "0  165349.20       136897.80        471784.10    New York  192261.83\n",
       "1  162597.70       151377.59        443898.53  California  191792.06\n",
       "2  153441.51       101145.55        407934.54     Florida  191050.39\n",
       "3  144372.41       118671.85        383199.62    New York  182901.99\n",
       "4  142107.34        91391.77        366168.42     Florida  166187.94"
      ]
     },
     "execution_count": 3,
     "metadata": {},
     "output_type": "execute_result"
    }
   ],
   "source": [
    "# lets check the first five rows of dataset\n",
    "df.head()"
   ]
  },
  {
   "cell_type": "code",
   "execution_count": 4,
   "metadata": {
    "colab": {
     "base_uri": "https://localhost:8080/"
    },
    "id": "8H0-bAR82f4F",
    "outputId": "be2695ab-ceaa-474c-b6d5-14e8218e78bc"
   },
   "outputs": [
    {
     "name": "stdout",
     "output_type": "stream",
     "text": [
      "<class 'pandas.core.frame.DataFrame'>\n",
      "RangeIndex: 50 entries, 0 to 49\n",
      "Data columns (total 5 columns):\n",
      " #   Column           Non-Null Count  Dtype  \n",
      "---  ------           --------------  -----  \n",
      " 0   R&D Spend        50 non-null     float64\n",
      " 1   Administration   50 non-null     float64\n",
      " 2   Marketing Spend  50 non-null     float64\n",
      " 3   State            50 non-null     object \n",
      " 4   Profit           50 non-null     float64\n",
      "dtypes: float64(4), object(1)\n",
      "memory usage: 2.1+ KB\n"
     ]
    }
   ],
   "source": [
    "df.info()"
   ]
  },
  {
   "cell_type": "code",
   "execution_count": 5,
   "metadata": {
    "colab": {
     "base_uri": "https://localhost:8080/",
     "height": 300
    },
    "id": "B0spdqmB2hx8",
    "outputId": "57cc1aa1-5617-4a25-f90a-42bff803b8ad"
   },
   "outputs": [
    {
     "data": {
      "text/html": [
       "<div>\n",
       "<style scoped>\n",
       "    .dataframe tbody tr th:only-of-type {\n",
       "        vertical-align: middle;\n",
       "    }\n",
       "\n",
       "    .dataframe tbody tr th {\n",
       "        vertical-align: top;\n",
       "    }\n",
       "\n",
       "    .dataframe thead th {\n",
       "        text-align: right;\n",
       "    }\n",
       "</style>\n",
       "<table border=\"1\" class=\"dataframe\">\n",
       "  <thead>\n",
       "    <tr style=\"text-align: right;\">\n",
       "      <th></th>\n",
       "      <th>R&amp;D Spend</th>\n",
       "      <th>Administration</th>\n",
       "      <th>Marketing Spend</th>\n",
       "      <th>Profit</th>\n",
       "    </tr>\n",
       "  </thead>\n",
       "  <tbody>\n",
       "    <tr>\n",
       "      <th>count</th>\n",
       "      <td>50.000000</td>\n",
       "      <td>50.000000</td>\n",
       "      <td>50.000000</td>\n",
       "      <td>50.000000</td>\n",
       "    </tr>\n",
       "    <tr>\n",
       "      <th>mean</th>\n",
       "      <td>73721.615600</td>\n",
       "      <td>121344.639600</td>\n",
       "      <td>211025.097800</td>\n",
       "      <td>112012.639200</td>\n",
       "    </tr>\n",
       "    <tr>\n",
       "      <th>std</th>\n",
       "      <td>45902.256482</td>\n",
       "      <td>28017.802755</td>\n",
       "      <td>122290.310726</td>\n",
       "      <td>40306.180338</td>\n",
       "    </tr>\n",
       "    <tr>\n",
       "      <th>min</th>\n",
       "      <td>0.000000</td>\n",
       "      <td>51283.140000</td>\n",
       "      <td>0.000000</td>\n",
       "      <td>14681.400000</td>\n",
       "    </tr>\n",
       "    <tr>\n",
       "      <th>25%</th>\n",
       "      <td>39936.370000</td>\n",
       "      <td>103730.875000</td>\n",
       "      <td>129300.132500</td>\n",
       "      <td>90138.902500</td>\n",
       "    </tr>\n",
       "    <tr>\n",
       "      <th>50%</th>\n",
       "      <td>73051.080000</td>\n",
       "      <td>122699.795000</td>\n",
       "      <td>212716.240000</td>\n",
       "      <td>107978.190000</td>\n",
       "    </tr>\n",
       "    <tr>\n",
       "      <th>75%</th>\n",
       "      <td>101602.800000</td>\n",
       "      <td>144842.180000</td>\n",
       "      <td>299469.085000</td>\n",
       "      <td>139765.977500</td>\n",
       "    </tr>\n",
       "    <tr>\n",
       "      <th>max</th>\n",
       "      <td>165349.200000</td>\n",
       "      <td>182645.560000</td>\n",
       "      <td>471784.100000</td>\n",
       "      <td>192261.830000</td>\n",
       "    </tr>\n",
       "  </tbody>\n",
       "</table>\n",
       "</div>"
      ],
      "text/plain": [
       "           R&D Spend  Administration  Marketing Spend         Profit\n",
       "count      50.000000       50.000000        50.000000      50.000000\n",
       "mean    73721.615600   121344.639600    211025.097800  112012.639200\n",
       "std     45902.256482    28017.802755    122290.310726   40306.180338\n",
       "min         0.000000    51283.140000         0.000000   14681.400000\n",
       "25%     39936.370000   103730.875000    129300.132500   90138.902500\n",
       "50%     73051.080000   122699.795000    212716.240000  107978.190000\n",
       "75%    101602.800000   144842.180000    299469.085000  139765.977500\n",
       "max    165349.200000   182645.560000    471784.100000  192261.830000"
      ]
     },
     "execution_count": 5,
     "metadata": {},
     "output_type": "execute_result"
    }
   ],
   "source": [
    "# summary statistics\n",
    "df.describe()"
   ]
  },
  {
   "cell_type": "markdown",
   "metadata": {
    "id": "V8FDjezJ2s6n"
   },
   "source": [
    "<h3 style=\"color:green;\"> Data Description </h3>\n",
    "\n",
    "The data collected from New York, California and Florida about 50 business Startups. The independent variables used in this dataset are R&D spending, Administration and Marketing Spending.<br>\n",
    "The dependent variable is Profit."
   ]
  },
  {
   "cell_type": "markdown",
   "metadata": {
    "id": "ULTQ5OpA2wHd"
   },
   "source": [
    "<h2 style=\"color:Peru;\"> Exploratory Data Analysis </h2>"
   ]
  },
  {
   "cell_type": "markdown",
   "metadata": {
    "id": "6CD4O-LK2ylL"
   },
   "source": [
    "- Find Unwanted Columns\n",
    "- Find Missing Values\n",
    "- Find Features with one value\n",
    "- Explore the Categorical Features\n",
    "- Find Categorical Feature Distribution\n",
    "- Relationship between Categorical Features and Label\n",
    "- Explore the Numerical Features\n",
    "- Find Discrete Numerical Features\n",
    "- Relation between Discrete numerical Features and Labels\n",
    "- Find Continous Numerical Features\n",
    "- Distribution of Continous Numerical Features\n",
    "- Relation between Continous numerical Features and Labels\n",
    "- Find Outliers in numerical features\n",
    "- Explore the Correlation between numerical features"
   ]
  },
  {
   "cell_type": "markdown",
   "metadata": {
    "id": "CYH6OI2222BS"
   },
   "source": [
    "**1. Find unwanted Columns**"
   ]
  },
  {
   "cell_type": "markdown",
   "metadata": {
    "id": "38jMkTJk219O"
   },
   "source": [
    "**Insight**:\n",
    "- There is no unwanted column present in given dataset to remove"
   ]
  },
  {
   "cell_type": "markdown",
   "metadata": {
    "id": "W4U_fw0c2160"
   },
   "source": [
    "**2. Find Missing Values**"
   ]
  },
  {
   "cell_type": "code",
   "execution_count": 6,
   "metadata": {
    "colab": {
     "base_uri": "https://localhost:8080/"
    },
    "id": "ZdyZrYg12-BV",
    "outputId": "6b40cebb-5525-4af4-c73b-1c3c1bf42982"
   },
   "outputs": [
    {
     "data": {
      "text/plain": [
       "R&D Spend          0\n",
       "Administration     0\n",
       "Marketing Spend    0\n",
       "State              0\n",
       "Profit             0\n",
       "dtype: int64"
      ]
     },
     "execution_count": 6,
     "metadata": {},
     "output_type": "execute_result"
    }
   ],
   "source": [
    "df.isnull().sum()"
   ]
  },
  {
   "cell_type": "markdown",
   "metadata": {
    "id": "uzRgVUtq21tP"
   },
   "source": [
    "**Insight**:\n",
    "- No missing value found"
   ]
  },
  {
   "cell_type": "markdown",
   "metadata": {
    "id": "7qAEavr921er"
   },
   "source": [
    "**3. Find Features with one value**"
   ]
  },
  {
   "cell_type": "code",
   "execution_count": 7,
   "metadata": {
    "colab": {
     "base_uri": "https://localhost:8080/"
    },
    "id": "-KyumQT22kC5",
    "outputId": "b00bdc0f-f5f3-4368-f44f-696f2902b476"
   },
   "outputs": [
    {
     "data": {
      "text/plain": [
       "{'R&D Spend': 49,\n",
       " 'Administration': 50,\n",
       " 'Marketing Spend': 48,\n",
       " 'State': 3,\n",
       " 'Profit': 50}"
      ]
     },
     "execution_count": 7,
     "metadata": {},
     "output_type": "execute_result"
    }
   ],
   "source": [
    "feature_values = {col:df[col].nunique() for col in df.columns}\n",
    "feature_values"
   ]
  },
  {
   "cell_type": "markdown",
   "metadata": {
    "id": "KBeiO26Y3PR_"
   },
   "source": [
    "**Insight**:\n",
    "- no feature found with one value"
   ]
  },
  {
   "cell_type": "markdown",
   "metadata": {
    "id": "etk1klD93TIM"
   },
   "source": [
    "**4. Explore the Categorical Features**"
   ]
  },
  {
   "cell_type": "code",
   "execution_count": 8,
   "metadata": {
    "colab": {
     "base_uri": "https://localhost:8080/"
    },
    "id": "VzWLOY1r3Iyf",
    "outputId": "18ef172f-da8e-41a4-d95e-af01200a43c6"
   },
   "outputs": [
    {
     "data": {
      "text/plain": [
       "['State']"
      ]
     },
     "execution_count": 8,
     "metadata": {},
     "output_type": "execute_result"
    }
   ],
   "source": [
    "categorical_features = [feature for feature in df.columns if df[feature].dtypes=='O']\n",
    "categorical_features"
   ]
  },
  {
   "cell_type": "markdown",
   "metadata": {
    "id": "9vzB3KCw4iUW"
   },
   "source": [
    "**Insight**:\n",
    "- only one feature that is State is categorical and it has 3 unique values."
   ]
  },
  {
   "cell_type": "markdown",
   "metadata": {
    "id": "EI7o4JoR4k7N"
   },
   "source": [
    "**5. Find Categorical Feature Distribution**"
   ]
  },
  {
   "cell_type": "code",
   "execution_count": 9,
   "metadata": {
    "colab": {
     "base_uri": "https://localhost:8080/",
     "height": 457
    },
    "id": "BG9dRI6g3Vhe",
    "outputId": "464a6e0b-e298-41de-d57c-af29d13469c2"
   },
   "outputs": [
    {
     "data": {
      "image/png": "[encoded data removed]",
      "text/plain": [
       "<Figure size 1200x600 with 1 Axes>"
      ]
     },
     "metadata": {},
     "output_type": "display_data"
    }
   ],
   "source": [
    "#check count based on categorical features\n",
    "#It shows how many startups belong to each state, helping to\n",
    "#understand the geographical distribution of startups in the dataset.\n",
    "sns.set(style=\"whitegrid\")\n",
    "plt.figure(figsize=(12, 6))\n",
    "total = float(len(df))\n",
    "ax = sns.countplot(x=\"State\", data=df)\n",
    "plt.xticks(rotation=90)\n",
    "plt.title(\"Count Plot For States\", fontsize=20)\n",
    "plt.xlabel(\"States\", fontsize=14)  # Add x-axis label\n",
    "plt.ylabel(\"Count\", fontsize=14)   # Add y-axis label\n",
    "\n",
    "# Adding percentages to the bars\n",
    "for p in ax.patches:\n",
    "    percentage = '{:.1f}%'.format(100 * p.get_height() / total)\n",
    "    x = p.get_x() + p.get_width() / 2.\n",
    "    y = p.get_height()\n",
    "    ax.annotate(percentage, (x, y), ha='center', va='bottom')\n",
    "\n",
    "plt.show()\n",
    "\n"
   ]
  },
  {
   "cell_type": "markdown",
   "metadata": {
    "id": "gGrXMD5y4ywC"
   },
   "source": [
    "**Insight**:\n",
    "- State with florida has less number of records in given dataset."
   ]
  },
  {
   "cell_type": "markdown",
   "metadata": {
    "id": "YyGczSZr420N"
   },
   "source": [
    "**6. Relationship between Categorical Features and Label**"
   ]
  },
  {
   "cell_type": "code",
   "execution_count": 3,
   "metadata": {
    "colab": {
     "base_uri": "https://localhost:8080/",
     "height": 396
    },
    "id": "VPaBNMqx4rFQ",
    "outputId": "0c6b2bd2-d2af-428b-ea7a-dd2691d945a1"
   },
   "outputs": [
    {
     "data": {
      "image/png": "[encoded data removed]",
      "text/plain": [
       "<Figure size 1200x600 with 1 Axes>"
      ]
     },
     "metadata": {},
     "output_type": "display_data"
    }
   ],
   "source": [
    "#Find out the relationship between categorical variable and dependent varaible\n",
    "'''plt.figure(figsize=(12, 6))\n",
    "fig = sns.boxplot(x='State', y=\"Profit\", data=df.sort_values('Profit',ascending=False))\n",
    "plt.show()'''\n",
    "import matplotlib.pyplot as plt\n",
    "import seaborn as sns\n",
    "\n",
    "# Reload data if needed\n",
    "import pandas as pd\n",
    "df = pd.read_csv(\"50_Startups.csv\")\n",
    "import os\n",
    "os.getcwd()\n",
    "\n",
    "# Create boxplot\n",
    "plt.figure(figsize=(12, 6))\n",
    "sns.boxplot(x='State', y='Profit', data=df.sort_values('Profit', ascending=False))\n",
    "plt.title(\"Profit Distribution by State\")\n",
    "plt.xticks(rotation=45)\n",
    "plt.tight_layout()\n",
    "plt.show()\n",
    "\n"
   ]
  },
  {
   "cell_type": "markdown",
   "metadata": {
    "id": "m78BWX3L49-d"
   },
   "source": [
    "**Insight**:\n",
    "- It seems startup in state of California has less profits than others two states."
   ]
  },
  {
   "cell_type": "markdown",
   "metadata": {
    "id": "IBv8Y51a5A7d"
   },
   "source": [
    "**7. Explore the Numerical Features**"
   ]
  },
  {
   "cell_type": "code",
   "execution_count": 4,
   "metadata": {
    "colab": {
     "base_uri": "https://localhost:8080/"
    },
    "id": "c5NMjABp47hZ",
    "outputId": "698f8092-91c2-4588-dde6-98fa0c0bace1"
   },
   "outputs": [
    {
     "name": "stdout",
     "output_type": "stream",
     "text": [
      "Numerical variables:  ['R&D Spend', 'Administration', 'Marketing Spend']\n"
     ]
    }
   ],
   "source": [
    "# list of numerical variables\n",
    "numerical_features = [feature for feature in df.columns if ((df[feature].dtypes != 'O') & (feature not in ['Profit']))]\n",
    "print('Numerical variables: ', numerical_features)"
   ]
  },
  {
   "cell_type": "markdown",
   "metadata": {
    "id": "gC_O1qpy5IGp"
   },
   "source": [
    "**Insight**:\n",
    "- there are three numerical features that are R&D Spend, Administration and Marketing Spend."
   ]
  },
  {
   "cell_type": "markdown",
   "metadata": {
    "id": "RoAfLmWX5Lb7"
   },
   "source": [
    "**8. Find Discrete Numerical Features**"
   ]
  },
  {
   "cell_type": "code",
   "execution_count": 5,
   "metadata": {
    "colab": {
     "base_uri": "https://localhost:8080/"
    },
    "id": "_J7rND_f5DWC",
    "outputId": "e4428e97-83b7-4afc-aa72-88bc0a1a541b"
   },
   "outputs": [
    {
     "name": "stdout",
     "output_type": "stream",
     "text": [
      "Discrete Variables Count: 0\n"
     ]
    }
   ],
   "source": [
    "discrete_feature = [feature for feature in numerical_features if df[feature].nunique()<25]\n",
    "print(\"Discrete Variables Count: {}\".format(len(discrete_feature)))"
   ]
  },
  {
   "cell_type": "markdown",
   "metadata": {
    "id": "1to02gJA5Qwt"
   },
   "source": [
    "**Insight**:\n",
    "- no discrete variable found"
   ]
  },
  {
   "cell_type": "markdown",
   "metadata": {
    "id": "oA0VZ5H65TrF"
   },
   "source": [
    "**9. Find Continous Numerical Features**"
   ]
  },
  {
   "cell_type": "code",
   "execution_count": 6,
   "metadata": {
    "colab": {
     "base_uri": "https://localhost:8080/"
    },
    "id": "k2WyA0Cg5GXx",
    "outputId": "bbfc7b74-f69c-4c0b-9375-a156cc6a3e05"
   },
   "outputs": [
    {
     "data": {
      "text/plain": [
       "['R&D Spend', 'Administration', 'Marketing Spend']"
      ]
     },
     "execution_count": 6,
     "metadata": {},
     "output_type": "execute_result"
    }
   ],
   "source": [
    "continuous_features = [feature for feature in numerical_features if feature not in discrete_feature + ['Profit']]\n",
    "continuous_features"
   ]
  },
  {
   "cell_type": "markdown",
   "metadata": {
    "id": "lHx2zM-y5Zz9"
   },
   "source": [
    "**Insight**:\n",
    "- there are three continuous numerical features - 'R&D Spend', 'Administration', 'Marketing Spend'"
   ]
  },
  {
   "cell_type": "markdown",
   "metadata": {
    "id": "XyWkpqme5ckw"
   },
   "source": [
    "**10. Distribution of Continous Numerical Features**"
   ]
  },
  {
   "cell_type": "code",
   "execution_count": 7,
   "metadata": {
    "colab": {
     "base_uri": "https://localhost:8080/",
     "height": 437
    },
    "id": "oCD7I9qj5Xb1",
    "outputId": "75de696a-3a3e-4998-d1bc-684670fa4363"
   },
   "outputs": [
    {
     "name": "stderr",
     "output_type": "stream",
     "text": [
      "C:\\Users\\Ramya\\AppData\\Local\\Temp\\ipykernel_11452\\769749724.py:15: UserWarning: \n",
      "\n",
      "`distplot` is a deprecated function and will be removed in seaborn v0.14.0.\n",
      "\n",
      "Please adapt your code to use either `displot` (a figure-level function with\n",
      "similar flexibility) or `histplot` (an axes-level function for histograms).\n",
      "\n",
      "For a guide to updating your code to use the new functions, please see\n",
      "https://gist.github.com/mwaskom/de44147ed2974457ad6372750bbe5751\n",
      "\n",
      "  sns.distplot(df[col],ax=axes[i])\n",
      "C:\\Users\\Ramya\\AppData\\Local\\Temp\\ipykernel_11452\\769749724.py:15: UserWarning: \n",
      "\n",
      "`distplot` is a deprecated function and will be removed in seaborn v0.14.0.\n",
      "\n",
      "Please adapt your code to use either `displot` (a figure-level function with\n",
      "similar flexibility) or `histplot` (an axes-level function for histograms).\n",
      "\n",
      "For a guide to updating your code to use the new functions, please see\n",
      "https://gist.github.com/mwaskom/de44147ed2974457ad6372750bbe5751\n",
      "\n",
      "  sns.distplot(df[col],ax=axes[i])\n",
      "C:\\Users\\Ramya\\AppData\\Local\\Temp\\ipykernel_11452\\769749724.py:15: UserWarning: \n",
      "\n",
      "`distplot` is a deprecated function and will be removed in seaborn v0.14.0.\n",
      "\n",
      "Please adapt your code to use either `displot` (a figure-level function with\n",
      "similar flexibility) or `histplot` (an axes-level function for histograms).\n",
      "\n",
      "For a guide to updating your code to use the new functions, please see\n",
      "https://gist.github.com/mwaskom/de44147ed2974457ad6372750bbe5751\n",
      "\n",
      "  sns.distplot(df[col],ax=axes[i])\n"
     ]
    },
    {
     "data": {
      "image/png": "[encoded data removed]",
      "text/plain": [
       "<Figure size 2000x600 with 3 Axes>"
      ]
     },
     "metadata": {},
     "output_type": "display_data"
    }
   ],
   "source": [
    "font = {'family': 'serif',\n",
    "        'color':  'darkred',\n",
    "        'weight': 'normal',\n",
    "        'size': 16,\n",
    "        }\n",
    "fig,axes = plt.subplots(1,3,figsize=(20,6),sharey=True)\n",
    "fig.subplots_adjust(wspace=0.1, hspace=0.3)\n",
    "fig.suptitle('Scatter Plot Of Continous Variables',fontsize = 20)\n",
    "fig.subplots_adjust(top=0.95)\n",
    "\n",
    "axes = axes.ravel()\n",
    "\n",
    "for i,col in enumerate(continuous_features):\n",
    "    #using log transformation\n",
    "    sns.distplot(df[col],ax=axes[i])"
   ]
  },
  {
   "cell_type": "markdown",
   "metadata": {
    "id": "Fef8xp7t5h2n"
   },
   "source": [
    "**Insight**:\n",
    "- it seems all continuous features are normally distributed."
   ]
  },
  {
   "cell_type": "markdown",
   "metadata": {
    "id": "c0w1AKDM5kcm"
   },
   "source": [
    "**11. Relation between Continuous numerical Features and Labels**"
   ]
  },
  {
   "cell_type": "code",
   "execution_count": 8,
   "metadata": {},
   "outputs": [
    {
     "data": {
      "image/png": "[encoded data removed]",
      "text/plain": [
       "<Figure size 2000x600 with 3 Axes>"
      ]
     },
     "metadata": {},
     "output_type": "display_data"
    }
   ],
   "source": [
    "fig,axes = plt.subplots(1,3,figsize=(20,6),sharey=True)\n",
    "fig.subplots_adjust(wspace=0.1, hspace=0.3)\n",
    "fig.suptitle('Scatter Plot Of Continuous Variables vs Profit',fontsize = 20)\n",
    "fig.subplots_adjust(top=0.95)\n",
    "\n",
    "axes = axes.ravel()\n",
    "\n",
    "for i,col in enumerate(continuous_features):\n",
    "    x = df[col]\n",
    "    y = df['Profit']\n",
    "    sns.scatterplot(x,ax=axes[i])"
   ]
  },
  {
   "cell_type": "markdown",
   "metadata": {
    "id": "v9pgzVb05p-2"
   },
   "source": [
    "**Insight**:\n",
    "- it seems R&D Spend and Marketing Spend features linearly progressing with Profit."
   ]
  },
  {
   "cell_type": "markdown",
   "metadata": {
    "id": "Jtzra2ib5v8k"
   },
   "source": [
    "**12. Find Outliers in numerical features**"
   ]
  },
  {
   "cell_type": "code",
   "execution_count": 9,
   "metadata": {
    "colab": {
     "base_uri": "https://localhost:8080/",
     "height": 339
    },
    "id": "TnJqRiv45nAq",
    "outputId": "ba0be47e-0e8d-4775-f3ee-5564d860f817"
   },
   "outputs": [
    {
     "data": {
      "image/png": "[encoded data removed]",
      "text/plain": [
       "<Figure size 2000x500 with 3 Axes>"
      ]
     },
     "metadata": {},
     "output_type": "display_data"
    }
   ],
   "source": [
    "#boxplot on numerical features to find outliers\n",
    "fig, ax = plt.subplots(1, 3, figsize=(20, 5))\n",
    "for variable, subplot in zip(numerical_features, ax.flatten()):\n",
    "    sns.boxplot(df[variable], ax=subplot)"
   ]
  },
  {
   "cell_type": "markdown",
   "metadata": {
    "id": "yhHnXY2D53NW"
   },
   "source": [
    "**Insight**:\n",
    "- it seems no outliers found"
   ]
  },
  {
   "cell_type": "markdown",
   "metadata": {
    "id": "Ujsw9rpi56g3"
   },
   "source": [
    "**13. Explore the Correlation between numerical features**"
   ]
  },
  {
   "cell_type": "code",
   "execution_count": 10,
   "metadata": {
    "colab": {
     "base_uri": "https://localhost:8080/",
     "height": 464
    },
    "id": "5gEZiHU_5z6v",
    "outputId": "284a5fcf-9e9f-421e-800b-9140eb4742bd"
   },
   "outputs": [
    {
     "name": "stderr",
     "output_type": "stream",
     "text": [
      "C:\\Users\\Ramya\\AppData\\Local\\Temp\\ipykernel_11452\\3704188851.py:3: FutureWarning: The default value of numeric_only in DataFrame.corr is deprecated. In a future version, it will default to False. Select only valid columns or specify the value of numeric_only to silence this warning.\n",
      "  sns.heatmap(df.corr(), annot=True, cmap='plasma')\n"
     ]
    },
    {
     "data": {
      "image/png": "[encoded data removed]",
      "text/plain": [
       "<Figure size 1000x600 with 2 Axes>"
      ]
     },
     "metadata": {},
     "output_type": "display_data"
    }
   ],
   "source": [
    "# Checking for correlation\n",
    "plt.figure(figsize=(10, 6))\n",
    "sns.heatmap(df.corr(), annot=True, cmap='plasma')\n",
    "plt.show()"
   ]
  },
  {
   "cell_type": "markdown",
   "metadata": {
    "id": "jLkUQ16u5_rJ"
   },
   "source": [
    "**Insight**:\n",
    "- it seems R&D Spend and marketing spend is correlated."
   ]
  },
  {
   "cell_type": "markdown",
   "metadata": {
    "id": "pXCx3CB75_dk"
   },
   "source": [
    "<h2 style=\"color:Peru;\"> Feature Engineering </h2>"
   ]
  },
  {
   "cell_type": "markdown",
   "metadata": {
    "id": "D8Qc_DG06DH_"
   },
   "source": [
    "- Drop unwanted Features\n",
    "- Handle Missing Values\n",
    "- Handle Categorical Features\n",
    "- Handle Feature Scalling\n",
    "- Remove Outliers"
   ]
  },
  {
   "cell_type": "markdown",
   "metadata": {
    "id": "lutpHazk6GGD"
   },
   "source": [
    "**As per Exploratory Data Analysis EDA**, \n",
    "- There is no unwanted column present in given dataset to remove\n",
    "- No missing value found\n",
    "- Only one feature that is State is categorical and it has 3 unique values\n",
    "- No outliers found"
   ]
  },
  {
   "cell_type": "code",
   "execution_count": 11,
   "metadata": {
    "id": "Pa85X2zY59WB"
   },
   "outputs": [],
   "source": [
    "# Handling Categorical Features\n",
    "df_state_dummies = pd.get_dummies(df['State'],prefix='state',drop_first=True)\n",
    "# concat df and state dummies\n",
    "df = pd.concat([df,df_state_dummies],axis=1)"
   ]
  },
  {
   "cell_type": "code",
   "execution_count": 12,
   "metadata": {
    "colab": {
     "base_uri": "https://localhost:8080/",
     "height": 206
    },
    "id": "OhiPcMoG6LuC",
    "outputId": "2b764d86-14cd-4731-f82e-f8e740fee80e"
   },
   "outputs": [
    {
     "data": {
      "text/html": [
       "<div>\n",
       "<style scoped>\n",
       "    .dataframe tbody tr th:only-of-type {\n",
       "        vertical-align: middle;\n",
       "    }\n",
       "\n",
       "    .dataframe tbody tr th {\n",
       "        vertical-align: top;\n",
       "    }\n",
       "\n",
       "    .dataframe thead th {\n",
       "        text-align: right;\n",
       "    }\n",
       "</style>\n",
       "<table border=\"1\" class=\"dataframe\">\n",
       "  <thead>\n",
       "    <tr style=\"text-align: right;\">\n",
       "      <th></th>\n",
       "      <th>R&amp;D Spend</th>\n",
       "      <th>Administration</th>\n",
       "      <th>Marketing Spend</th>\n",
       "      <th>State</th>\n",
       "      <th>Profit</th>\n",
       "      <th>state_Florida</th>\n",
       "      <th>state_New York</th>\n",
       "    </tr>\n",
       "  </thead>\n",
       "  <tbody>\n",
       "    <tr>\n",
       "      <th>0</th>\n",
       "      <td>165349.20</td>\n",
       "      <td>136897.80</td>\n",
       "      <td>471784.10</td>\n",
       "      <td>New York</td>\n",
       "      <td>192261.83</td>\n",
       "      <td>0</td>\n",
       "      <td>1</td>\n",
       "    </tr>\n",
       "    <tr>\n",
       "      <th>1</th>\n",
       "      <td>162597.70</td>\n",
       "      <td>151377.59</td>\n",
       "      <td>443898.53</td>\n",
       "      <td>California</td>\n",
       "      <td>191792.06</td>\n",
       "      <td>0</td>\n",
       "      <td>0</td>\n",
       "    </tr>\n",
       "    <tr>\n",
       "      <th>2</th>\n",
       "      <td>153441.51</td>\n",
       "      <td>101145.55</td>\n",
       "      <td>407934.54</td>\n",
       "      <td>Florida</td>\n",
       "      <td>191050.39</td>\n",
       "      <td>1</td>\n",
       "      <td>0</td>\n",
       "    </tr>\n",
       "    <tr>\n",
       "      <th>3</th>\n",
       "      <td>144372.41</td>\n",
       "      <td>118671.85</td>\n",
       "      <td>383199.62</td>\n",
       "      <td>New York</td>\n",
       "      <td>182901.99</td>\n",
       "      <td>0</td>\n",
       "      <td>1</td>\n",
       "    </tr>\n",
       "    <tr>\n",
       "      <th>4</th>\n",
       "      <td>142107.34</td>\n",
       "      <td>91391.77</td>\n",
       "      <td>366168.42</td>\n",
       "      <td>Florida</td>\n",
       "      <td>166187.94</td>\n",
       "      <td>1</td>\n",
       "      <td>0</td>\n",
       "    </tr>\n",
       "  </tbody>\n",
       "</table>\n",
       "</div>"
      ],
      "text/plain": [
       "   R&D Spend  Administration  Marketing Spend       State     Profit  \\\n",
       "0  165349.20       136897.80        471784.10    New York  192261.83   \n",
       "1  162597.70       151377.59        443898.53  California  191792.06   \n",
       "2  153441.51       101145.55        407934.54     Florida  191050.39   \n",
       "3  144372.41       118671.85        383199.62    New York  182901.99   \n",
       "4  142107.34        91391.77        366168.42     Florida  166187.94   \n",
       "\n",
       "   state_Florida  state_New York  \n",
       "0              0               1  \n",
       "1              0               0  \n",
       "2              1               0  \n",
       "3              0               1  \n",
       "4              1               0  "
      ]
     },
     "execution_count": 12,
     "metadata": {},
     "output_type": "execute_result"
    }
   ],
   "source": [
    "df.head()"
   ]
  },
  {
   "cell_type": "code",
   "execution_count": 13,
   "metadata": {
    "id": "Ogdx3Pna6OCx"
   },
   "outputs": [],
   "source": [
    "# drop the original categorical columns\n",
    "df.drop(['State'], axis=1, inplace=True)"
   ]
  },
  {
   "cell_type": "code",
   "execution_count": 14,
   "metadata": {
    "colab": {
     "base_uri": "https://localhost:8080/"
    },
    "id": "6cgYpXbB6Qo5",
    "outputId": "5c2e0129-a6f7-4211-91e6-f8e9527b32fb"
   },
   "outputs": [
    {
     "data": {
      "text/plain": [
       "(50, 6)"
      ]
     },
     "execution_count": 14,
     "metadata": {},
     "output_type": "execute_result"
    }
   ],
   "source": [
    "df.shape"
   ]
  },
  {
   "cell_type": "markdown",
   "metadata": {
    "id": "FfgQ5oiD6UUF"
   },
   "source": [
    "<h2 style=\"color:Peru;\"> Model Selection </h2>"
   ]
  },
  {
   "cell_type": "code",
   "execution_count": 15,
   "metadata": {
    "id": "t0l28U6P6SCR"
   },
   "outputs": [],
   "source": [
    "# Separate Dependent and Independent Variables\n",
    "X = df.drop('Profit',axis=1)\n",
    "y = df['Profit']"
   ]
  },
  {
   "cell_type": "code",
   "execution_count": 16,
   "metadata": {
    "id": "MsfFG6kl6Wfa"
   },
   "outputs": [],
   "source": [
    "# Train-Test Split\n",
    "from sklearn.model_selection import train_test_split\n",
    "X_train, X_test, y_train, y_test = train_test_split(X, y, test_size = 0.2, random_state = 50)"
   ]
  },
  {
   "cell_type": "code",
   "execution_count": 17,
   "metadata": {
    "id": "q0XcewFC6tBX"
   },
   "outputs": [],
   "source": [
    "# Hyper parameter tuning\n",
    "import pandas as pd\n",
    "import numpy as np\n",
    "from sklearn.model_selection import RandomizedSearchCV, ShuffleSplit\n",
    "from sklearn.linear_model import LinearRegression, Lasso\n",
    "from sklearn.tree import DecisionTreeRegressor\n",
    "from sklearn.ensemble import RandomForestRegressor\n",
    "from sklearn.preprocessing import StandardScaler\n",
    "from sklearn.pipeline import make_pipeline\n",
    "\n",
    "def find_best_model_using_gridsearchcv(X, y):\n",
    "    algos = {\n",
    "        'LinearRegression': {\n",
    "            'model': make_pipeline(StandardScaler(), LinearRegression()),\n",
    "            'params': {\n",
    "                'linearregression__fit_intercept': [True, False],\n",
    "                'linearregression__copy_X': [True, False]\n",
    "            }\n",
    "        },\n",
    "        'Lasso': {\n",
    "            'model': Lasso(),\n",
    "            'params': {\n",
    "                'alpha': [1, 2],\n",
    "                'selection': ['random', 'cyclic']\n",
    "            }\n",
    "        },\n",
    "        'DecisionTree': {\n",
    "            'model': DecisionTreeRegressor(),\n",
    "            'params': {\n",
    "                'criterion': ['squared_error'],  # Fewer values\n",
    "                'splitter': ['best']\n",
    "            }\n",
    "        },\n",
    "        'RandomForest': {\n",
    "            'model': RandomForestRegressor(),\n",
    "            'params': {\n",
    "                'n_estimators': [100, 200],  # Fewer values\n",
    "                'max_features': ['auto', 'sqrt'],\n",
    "                'max_depth': [10, 20],  # Fewer values\n",
    "                'min_samples_leaf': [1]\n",
    "            }\n",
    "        }\n",
    "    }\n",
    "    \n",
    "    scores = []\n",
    "    cv = ShuffleSplit(n_splits=3, test_size=0.2, random_state=50)  # Reduced splits for faster computation\n",
    "    for algo_name, config in algos.items():\n",
    "        gs = RandomizedSearchCV(config['model'], config['params'], cv=cv, n_iter=5, n_jobs=-1, return_train_score=False)  # Using RandomizedSearchCV with limited iterations\n",
    "        gs.fit(X, y)\n",
    "        scores.append({\n",
    "            'model': algo_name,\n",
    "            'best_score': gs.best_score_,\n",
    "            'best_params': gs.best_params_\n",
    "        })\n",
    "    \n",
    "    return pd.DataFrame(scores, columns=['model', 'best_score', 'best_params'])\n",
    "\n",
    "\n"
   ]
  },
  {
   "cell_type": "code",
   "execution_count": 18,
   "metadata": {
    "colab": {
     "base_uri": "https://localhost:8080/",
     "height": 175
    },
    "id": "ZzUQ79Zj60mi",
    "outputId": "d06f0861-bffc-4914-8131-8bbed17c4339"
   },
   "outputs": [
    {
     "name": "stdout",
     "output_type": "stream",
     "text": [
      "   R&D Spend  Administration  Marketing Spend       State     Profit\n",
      "0  165349.20       136897.80        471784.10    New York  192261.83\n",
      "1  162597.70       151377.59        443898.53  California  191792.06\n",
      "2  153441.51       101145.55        407934.54     Florida  191050.39\n",
      "3  144372.41       118671.85        383199.62    New York  182901.99\n",
      "4  142107.34        91391.77        366168.42     Florida  166187.94\n"
     ]
    },
    {
     "name": "stderr",
     "output_type": "stream",
     "text": [
      "c:\\Users\\Ramya\\AppData\\Local\\Programs\\Python\\Python39\\lib\\site-packages\\sklearn\\model_selection\\_search.py:317: UserWarning: The total space of parameters 4 is smaller than n_iter=5. Running 4 iterations. For exhaustive searches, use GridSearchCV.\n",
      "  warnings.warn(\n",
      "c:\\Users\\Ramya\\AppData\\Local\\Programs\\Python\\Python39\\lib\\site-packages\\sklearn\\model_selection\\_search.py:317: UserWarning: The total space of parameters 4 is smaller than n_iter=5. Running 4 iterations. For exhaustive searches, use GridSearchCV.\n",
      "  warnings.warn(\n",
      "c:\\Users\\Ramya\\AppData\\Local\\Programs\\Python\\Python39\\lib\\site-packages\\sklearn\\model_selection\\_search.py:317: UserWarning: The total space of parameters 1 is smaller than n_iter=5. Running 1 iterations. For exhaustive searches, use GridSearchCV.\n",
      "  warnings.warn(\n",
      "c:\\Users\\Ramya\\AppData\\Local\\Programs\\Python\\Python39\\lib\\site-packages\\sklearn\\model_selection\\_validation.py:528: FitFailedWarning: \n",
      "6 fits failed out of a total of 15.\n",
      "The score on these train-test partitions for these parameters will be set to nan.\n",
      "If these failures are not expected, you can try to debug them by setting error_score='raise'.\n",
      "\n",
      "Below are more details about the failures:\n",
      "--------------------------------------------------------------------------------\n",
      "2 fits failed with the following error:\n",
      "Traceback (most recent call last):\n",
      "  File \"c:\\Users\\Ramya\\AppData\\Local\\Programs\\Python\\Python39\\lib\\site-packages\\sklearn\\model_selection\\_validation.py\", line 866, in _fit_and_score\n",
      "    estimator.fit(X_train, y_train, **fit_params)\n",
      "  File \"c:\\Users\\Ramya\\AppData\\Local\\Programs\\Python\\Python39\\lib\\site-packages\\sklearn\\base.py\", line 1382, in wrapper\n",
      "    estimator._validate_params()\n",
      "  File \"c:\\Users\\Ramya\\AppData\\Local\\Programs\\Python\\Python39\\lib\\site-packages\\sklearn\\base.py\", line 436, in _validate_params\n",
      "    validate_parameter_constraints(\n",
      "  File \"c:\\Users\\Ramya\\AppData\\Local\\Programs\\Python\\Python39\\lib\\site-packages\\sklearn\\utils\\_param_validation.py\", line 98, in validate_parameter_constraints\n",
      "    raise InvalidParameterError(\n",
      "sklearn.utils._param_validation.InvalidParameterError: The 'max_features' parameter of RandomForestRegressor must be an int in the range [1, inf), a float in the range (0.0, 1.0], a str among {'sqrt', 'log2'} or None. Got 'auto' instead.\n",
      "\n",
      "--------------------------------------------------------------------------------\n",
      "4 fits failed with the following error:\n",
      "Traceback (most recent call last):\n",
      "  File \"c:\\Users\\Ramya\\AppData\\Local\\Programs\\Python\\Python39\\lib\\site-packages\\sklearn\\model_selection\\_validation.py\", line 866, in _fit_and_score\n",
      "    estimator.fit(X_train, y_train, **fit_params)\n",
      "  File \"c:\\Users\\Ramya\\AppData\\Local\\Programs\\Python\\Python39\\lib\\site-packages\\sklearn\\base.py\", line 1382, in wrapper\n",
      "    estimator._validate_params()\n",
      "  File \"c:\\Users\\Ramya\\AppData\\Local\\Programs\\Python\\Python39\\lib\\site-packages\\sklearn\\base.py\", line 436, in _validate_params\n",
      "    validate_parameter_constraints(\n",
      "  File \"c:\\Users\\Ramya\\AppData\\Local\\Programs\\Python\\Python39\\lib\\site-packages\\sklearn\\utils\\_param_validation.py\", line 98, in validate_parameter_constraints\n",
      "    raise InvalidParameterError(\n",
      "sklearn.utils._param_validation.InvalidParameterError: The 'max_features' parameter of RandomForestRegressor must be an int in the range [1, inf), a float in the range (0.0, 1.0], a str among {'log2', 'sqrt'} or None. Got 'auto' instead.\n",
      "\n",
      "  warnings.warn(some_fits_failed_message, FitFailedWarning)\n",
      "c:\\Users\\Ramya\\AppData\\Local\\Programs\\Python\\Python39\\lib\\site-packages\\sklearn\\model_selection\\_search.py:1108: UserWarning: One or more of the test scores are non-finite: [0.8624312         nan 0.87309106        nan 0.87172223]\n",
      "  warnings.warn(\n"
     ]
    }
   ],
   "source": [
    "df = pd.read_csv('./50_Startups.csv')\n",
    "print(df.head())\n",
    "\n",
    "# Preprocessing categorical 'State' column (if necessary)\n",
    "# Check if 'State' column exists in df before applying get_dummies\n",
    "if 'State' in df.columns:\n",
    "    df = pd.get_dummies(df, columns=['State'], drop_first=True)\n",
    "else:\n",
    "    print(\"'State' column not found in the dataset\")\n",
    "\n",
    "# Define features and target\n",
    "X = df.drop('Profit', axis=1)\n",
    "y = df['Profit']\n",
    "\n",
    "# Now you can proceed with the GridSearchCV function\n",
    "pd.set_option('display.max_colwidth', 100)\n",
    "best_models = find_best_model_using_gridsearchcv(X, y)\n"
   ]
  },
  {
   "cell_type": "markdown",
   "metadata": {
    "id": "EWAMghG37Bdv"
   },
   "source": [
    "<h2 style=\"color:Peru;\"> Model Building </h2>"
   ]
  },
  {
   "cell_type": "code",
   "execution_count": 23,
   "metadata": {
    "id": "jIyodhexF540"
   },
   "outputs": [
    {
     "name": "stdout",
     "output_type": "stream",
     "text": [
      "Model Score on Test Data (R^2): 0.8987266414319839\n",
      "Predicted Values on Test Data: [126362.87908252  84608.45383643  99677.49425155  46357.46068582\n",
      " 128750.48288497  50912.41741905 109741.350327   100643.24281644\n",
      "  97599.275746   113097.42524437]\n",
      "Actual Values on Test Data: [134307.35  81005.76  99937.59  64926.08 125370.37  35673.41 105733.54\n",
      " 107404.34  97427.84 122776.86]\n"
     ]
    }
   ],
   "source": [
    "# Linear Regression\n",
    "from sklearn.model_selection import train_test_split\n",
    "from sklearn.linear_model import LinearRegression\n",
    "from sklearn.pipeline import make_pipeline\n",
    "from sklearn.preprocessing import StandardScaler\n",
    "\n",
    "# Load your dataset\n",
    "df = pd.read_csv('./50_Startups.csv')\n",
    "\n",
    "# Preprocessing: One-hot encoding for categorical variables\n",
    "if 'State' in df.columns:\n",
    "    df = pd.get_dummies(df, columns=['State'], drop_first=True)\n",
    "\n",
    "# Define features and target\n",
    "X = df.drop('Profit', axis=1)\n",
    "y = df['Profit']\n",
    "\n",
    "# Split your data into training and test sets\n",
    "X_train, X_test, y_train, y_test = train_test_split(X, y, test_size=0.2, random_state=42)\n",
    "\n",
    "# Create a pipeline with StandardScaler and LinearRegression\n",
    "lr = make_pipeline(StandardScaler(), LinearRegression(copy_X=True, fit_intercept=True))\n",
    "\n",
    "# Fit the model on the training data\n",
    "lr.fit(X_train, y_train)\n",
    "\n",
    "# Make predictions on the test set\n",
    "y_pred = lr.predict(X_test)\n",
    "\n",
    "# Evaluate the model\n",
    "score = lr.score(X_test, y_test)\n",
    "print(\"Model Score on Test Data (R^2):\", score)\n",
    "print(\"Predicted Values on Test Data:\", y_pred)\n",
    "print(\"Actual Values on Test Data:\", y_test.values)\n"
   ]
  },
  {
   "cell_type": "code",
   "execution_count": 24,
   "metadata": {
    "colab": {
     "base_uri": "https://localhost:8080/"
    },
    "id": "F8kQTj-LhFfI",
    "outputId": "7f246a5f-8865-4dd8-f409-0d06ccf70b42"
   },
   "outputs": [
    {
     "data": {
      "text/html": [
       "<style>#sk-container-id-1 {\n",
       "  /* Definition of color scheme common for light and dark mode */\n",
       "  --sklearn-color-text: #000;\n",
       "  --sklearn-color-text-muted: #666;\n",
       "  --sklearn-color-line: gray;\n",
       "  /* Definition of color scheme for unfitted estimators */\n",
       "  --sklearn-color-unfitted-level-0: #fff5e6;\n",
       "  --sklearn-color-unfitted-level-1: #f6e4d2;\n",
       "  --sklearn-color-unfitted-level-2: #ffe0b3;\n",
       "  --sklearn-color-unfitted-level-3: chocolate;\n",
       "  /* Definition of color scheme for fitted estimators */\n",
       "  --sklearn-color-fitted-level-0: #f0f8ff;\n",
       "  --sklearn-color-fitted-level-1: #d4ebff;\n",
       "  --sklearn-color-fitted-level-2: #b3dbfd;\n",
       "  --sklearn-color-fitted-level-3: cornflowerblue;\n",
       "\n",
       "  /* Specific color for light theme */\n",
       "  --sklearn-color-text-on-default-background: var(--sg-text-color, var(--theme-code-foreground, var(--jp-content-font-color1, black)));\n",
       "  --sklearn-color-background: var(--sg-background-color, var(--theme-background, var(--jp-layout-color0, white)));\n",
       "  --sklearn-color-border-box: var(--sg-text-color, var(--theme-code-foreground, var(--jp-content-font-color1, black)));\n",
       "  --sklearn-color-icon: #696969;\n",
       "\n",
       "  @media (prefers-color-scheme: dark) {\n",
       "    /* Redefinition of color scheme for dark theme */\n",
       "    --sklearn-color-text-on-default-background: var(--sg-text-color, var(--theme-code-foreground, var(--jp-content-font-color1, white)));\n",
       "    --sklearn-color-background: var(--sg-background-color, var(--theme-background, var(--jp-layout-color0, #111)));\n",
       "    --sklearn-color-border-box: var(--sg-text-color, var(--theme-code-foreground, var(--jp-content-font-color1, white)));\n",
       "    --sklearn-color-icon: #878787;\n",
       "  }\n",
       "}\n",
       "\n",
       "#sk-container-id-1 {\n",
       "  color: var(--sklearn-color-text);\n",
       "}\n",
       "\n",
       "#sk-container-id-1 pre {\n",
       "  padding: 0;\n",
       "}\n",
       "\n",
       "#sk-container-id-1 input.sk-hidden--visually {\n",
       "  border: 0;\n",
       "  clip: rect(1px 1px 1px 1px);\n",
       "  clip: rect(1px, 1px, 1px, 1px);\n",
       "  height: 1px;\n",
       "  margin: -1px;\n",
       "  overflow: hidden;\n",
       "  padding: 0;\n",
       "  position: absolute;\n",
       "  width: 1px;\n",
       "}\n",
       "\n",
       "#sk-container-id-1 div.sk-dashed-wrapped {\n",
       "  border: 1px dashed var(--sklearn-color-line);\n",
       "  margin: 0 0.4em 0.5em 0.4em;\n",
       "  box-sizing: border-box;\n",
       "  padding-bottom: 0.4em;\n",
       "  background-color: var(--sklearn-color-background);\n",
       "}\n",
       "\n",
       "#sk-container-id-1 div.sk-container {\n",
       "  /* jupyter's `normalize.less` sets `[hidden] { display: none; }`\n",
       "     but bootstrap.min.css set `[hidden] { display: none !important; }`\n",
       "     so we also need the `!important` here to be able to override the\n",
       "     default hidden behavior on the sphinx rendered scikit-learn.org.\n",
       "     See: https://github.com/scikit-learn/scikit-learn/issues/21755 */\n",
       "  display: inline-block !important;\n",
       "  position: relative;\n",
       "}\n",
       "\n",
       "#sk-container-id-1 div.sk-text-repr-fallback {\n",
       "  display: none;\n",
       "}\n",
       "\n",
       "div.sk-parallel-item,\n",
       "div.sk-serial,\n",
       "div.sk-item {\n",
       "  /* draw centered vertical line to link estimators */\n",
       "  background-image: linear-gradient(var(--sklearn-color-text-on-default-background), var(--sklearn-color-text-on-default-background));\n",
       "  background-size: 2px 100%;\n",
       "  background-repeat: no-repeat;\n",
       "  background-position: center center;\n",
       "}\n",
       "\n",
       "/* Parallel-specific style estimator block */\n",
       "\n",
       "#sk-container-id-1 div.sk-parallel-item::after {\n",
       "  content: \"\";\n",
       "  width: 100%;\n",
       "  border-bottom: 2px solid var(--sklearn-color-text-on-default-background);\n",
       "  flex-grow: 1;\n",
       "}\n",
       "\n",
       "#sk-container-id-1 div.sk-parallel {\n",
       "  display: flex;\n",
       "  align-items: stretch;\n",
       "  justify-content: center;\n",
       "  background-color: var(--sklearn-color-background);\n",
       "  position: relative;\n",
       "}\n",
       "\n",
       "#sk-container-id-1 div.sk-parallel-item {\n",
       "  display: flex;\n",
       "  flex-direction: column;\n",
       "}\n",
       "\n",
       "#sk-container-id-1 div.sk-parallel-item:first-child::after {\n",
       "  align-self: flex-end;\n",
       "  width: 50%;\n",
       "}\n",
       "\n",
       "#sk-container-id-1 div.sk-parallel-item:last-child::after {\n",
       "  align-self: flex-start;\n",
       "  width: 50%;\n",
       "}\n",
       "\n",
       "#sk-container-id-1 div.sk-parallel-item:only-child::after {\n",
       "  width: 0;\n",
       "}\n",
       "\n",
       "/* Serial-specific style estimator block */\n",
       "\n",
       "#sk-container-id-1 div.sk-serial {\n",
       "  display: flex;\n",
       "  flex-direction: column;\n",
       "  align-items: center;\n",
       "  background-color: var(--sklearn-color-background);\n",
       "  padding-right: 1em;\n",
       "  padding-left: 1em;\n",
       "}\n",
       "\n",
       "\n",
       "/* Toggleable style: style used for estimator/Pipeline/ColumnTransformer box that is\n",
       "clickable and can be expanded/collapsed.\n",
       "- Pipeline and ColumnTransformer use this feature and define the default style\n",
       "- Estimators will overwrite some part of the style using the `sk-estimator` class\n",
       "*/\n",
       "\n",
       "/* Pipeline and ColumnTransformer style (default) */\n",
       "\n",
       "#sk-container-id-1 div.sk-toggleable {\n",
       "  /* Default theme specific background. It is overwritten whether we have a\n",
       "  specific estimator or a Pipeline/ColumnTransformer */\n",
       "  background-color: var(--sklearn-color-background);\n",
       "}\n",
       "\n",
       "/* Toggleable label */\n",
       "#sk-container-id-1 label.sk-toggleable__label {\n",
       "  cursor: pointer;\n",
       "  display: flex;\n",
       "  width: 100%;\n",
       "  margin-bottom: 0;\n",
       "  padding: 0.5em;\n",
       "  box-sizing: border-box;\n",
       "  text-align: center;\n",
       "  align-items: start;\n",
       "  justify-content: space-between;\n",
       "  gap: 0.5em;\n",
       "}\n",
       "\n",
       "#sk-container-id-1 label.sk-toggleable__label .caption {\n",
       "  font-size: 0.6rem;\n",
       "  font-weight: lighter;\n",
       "  color: var(--sklearn-color-text-muted);\n",
       "}\n",
       "\n",
       "#sk-container-id-1 label.sk-toggleable__label-arrow:before {\n",
       "  /* Arrow on the left of the label */\n",
       "  content: \"▸\";\n",
       "  float: left;\n",
       "  margin-right: 0.25em;\n",
       "  color: var(--sklearn-color-icon);\n",
       "}\n",
       "\n",
       "#sk-container-id-1 label.sk-toggleable__label-arrow:hover:before {\n",
       "  color: var(--sklearn-color-text);\n",
       "}\n",
       "\n",
       "/* Toggleable content - dropdown */\n",
       "\n",
       "#sk-container-id-1 div.sk-toggleable__content {\n",
       "  max-height: 0;\n",
       "  max-width: 0;\n",
       "  overflow: hidden;\n",
       "  text-align: left;\n",
       "  /* unfitted */\n",
       "  background-color: var(--sklearn-color-unfitted-level-0);\n",
       "}\n",
       "\n",
       "#sk-container-id-1 div.sk-toggleable__content.fitted {\n",
       "  /* fitted */\n",
       "  background-color: var(--sklearn-color-fitted-level-0);\n",
       "}\n",
       "\n",
       "#sk-container-id-1 div.sk-toggleable__content pre {\n",
       "  margin: 0.2em;\n",
       "  border-radius: 0.25em;\n",
       "  color: var(--sklearn-color-text);\n",
       "  /* unfitted */\n",
       "  background-color: var(--sklearn-color-unfitted-level-0);\n",
       "}\n",
       "\n",
       "#sk-container-id-1 div.sk-toggleable__content.fitted pre {\n",
       "  /* unfitted */\n",
       "  background-color: var(--sklearn-color-fitted-level-0);\n",
       "}\n",
       "\n",
       "#sk-container-id-1 input.sk-toggleable__control:checked~div.sk-toggleable__content {\n",
       "  /* Expand drop-down */\n",
       "  max-height: 200px;\n",
       "  max-width: 100%;\n",
       "  overflow: auto;\n",
       "}\n",
       "\n",
       "#sk-container-id-1 input.sk-toggleable__control:checked~label.sk-toggleable__label-arrow:before {\n",
       "  content: \"▾\";\n",
       "}\n",
       "\n",
       "/* Pipeline/ColumnTransformer-specific style */\n",
       "\n",
       "#sk-container-id-1 div.sk-label input.sk-toggleable__control:checked~label.sk-toggleable__label {\n",
       "  color: var(--sklearn-color-text);\n",
       "  background-color: var(--sklearn-color-unfitted-level-2);\n",
       "}\n",
       "\n",
       "#sk-container-id-1 div.sk-label.fitted input.sk-toggleable__control:checked~label.sk-toggleable__label {\n",
       "  background-color: var(--sklearn-color-fitted-level-2);\n",
       "}\n",
       "\n",
       "/* Estimator-specific style */\n",
       "\n",
       "/* Colorize estimator box */\n",
       "#sk-container-id-1 div.sk-estimator input.sk-toggleable__control:checked~label.sk-toggleable__label {\n",
       "  /* unfitted */\n",
       "  background-color: var(--sklearn-color-unfitted-level-2);\n",
       "}\n",
       "\n",
       "#sk-container-id-1 div.sk-estimator.fitted input.sk-toggleable__control:checked~label.sk-toggleable__label {\n",
       "  /* fitted */\n",
       "  background-color: var(--sklearn-color-fitted-level-2);\n",
       "}\n",
       "\n",
       "#sk-container-id-1 div.sk-label label.sk-toggleable__label,\n",
       "#sk-container-id-1 div.sk-label label {\n",
       "  /* The background is the default theme color */\n",
       "  color: var(--sklearn-color-text-on-default-background);\n",
       "}\n",
       "\n",
       "/* On hover, darken the color of the background */\n",
       "#sk-container-id-1 div.sk-label:hover label.sk-toggleable__label {\n",
       "  color: var(--sklearn-color-text);\n",
       "  background-color: var(--sklearn-color-unfitted-level-2);\n",
       "}\n",
       "\n",
       "/* Label box, darken color on hover, fitted */\n",
       "#sk-container-id-1 div.sk-label.fitted:hover label.sk-toggleable__label.fitted {\n",
       "  color: var(--sklearn-color-text);\n",
       "  background-color: var(--sklearn-color-fitted-level-2);\n",
       "}\n",
       "\n",
       "/* Estimator label */\n",
       "\n",
       "#sk-container-id-1 div.sk-label label {\n",
       "  font-family: monospace;\n",
       "  font-weight: bold;\n",
       "  display: inline-block;\n",
       "  line-height: 1.2em;\n",
       "}\n",
       "\n",
       "#sk-container-id-1 div.sk-label-container {\n",
       "  text-align: center;\n",
       "}\n",
       "\n",
       "/* Estimator-specific */\n",
       "#sk-container-id-1 div.sk-estimator {\n",
       "  font-family: monospace;\n",
       "  border: 1px dotted var(--sklearn-color-border-box);\n",
       "  border-radius: 0.25em;\n",
       "  box-sizing: border-box;\n",
       "  margin-bottom: 0.5em;\n",
       "  /* unfitted */\n",
       "  background-color: var(--sklearn-color-unfitted-level-0);\n",
       "}\n",
       "\n",
       "#sk-container-id-1 div.sk-estimator.fitted {\n",
       "  /* fitted */\n",
       "  background-color: var(--sklearn-color-fitted-level-0);\n",
       "}\n",
       "\n",
       "/* on hover */\n",
       "#sk-container-id-1 div.sk-estimator:hover {\n",
       "  /* unfitted */\n",
       "  background-color: var(--sklearn-color-unfitted-level-2);\n",
       "}\n",
       "\n",
       "#sk-container-id-1 div.sk-estimator.fitted:hover {\n",
       "  /* fitted */\n",
       "  background-color: var(--sklearn-color-fitted-level-2);\n",
       "}\n",
       "\n",
       "/* Specification for estimator info (e.g. \"i\" and \"?\") */\n",
       "\n",
       "/* Common style for \"i\" and \"?\" */\n",
       "\n",
       ".sk-estimator-doc-link,\n",
       "a:link.sk-estimator-doc-link,\n",
       "a:visited.sk-estimator-doc-link {\n",
       "  float: right;\n",
       "  font-size: smaller;\n",
       "  line-height: 1em;\n",
       "  font-family: monospace;\n",
       "  background-color: var(--sklearn-color-background);\n",
       "  border-radius: 1em;\n",
       "  height: 1em;\n",
       "  width: 1em;\n",
       "  text-decoration: none !important;\n",
       "  margin-left: 0.5em;\n",
       "  text-align: center;\n",
       "  /* unfitted */\n",
       "  border: var(--sklearn-color-unfitted-level-1) 1pt solid;\n",
       "  color: var(--sklearn-color-unfitted-level-1);\n",
       "}\n",
       "\n",
       ".sk-estimator-doc-link.fitted,\n",
       "a:link.sk-estimator-doc-link.fitted,\n",
       "a:visited.sk-estimator-doc-link.fitted {\n",
       "  /* fitted */\n",
       "  border: var(--sklearn-color-fitted-level-1) 1pt solid;\n",
       "  color: var(--sklearn-color-fitted-level-1);\n",
       "}\n",
       "\n",
       "/* On hover */\n",
       "div.sk-estimator:hover .sk-estimator-doc-link:hover,\n",
       ".sk-estimator-doc-link:hover,\n",
       "div.sk-label-container:hover .sk-estimator-doc-link:hover,\n",
       ".sk-estimator-doc-link:hover {\n",
       "  /* unfitted */\n",
       "  background-color: var(--sklearn-color-unfitted-level-3);\n",
       "  color: var(--sklearn-color-background);\n",
       "  text-decoration: none;\n",
       "}\n",
       "\n",
       "div.sk-estimator.fitted:hover .sk-estimator-doc-link.fitted:hover,\n",
       ".sk-estimator-doc-link.fitted:hover,\n",
       "div.sk-label-container:hover .sk-estimator-doc-link.fitted:hover,\n",
       ".sk-estimator-doc-link.fitted:hover {\n",
       "  /* fitted */\n",
       "  background-color: var(--sklearn-color-fitted-level-3);\n",
       "  color: var(--sklearn-color-background);\n",
       "  text-decoration: none;\n",
       "}\n",
       "\n",
       "/* Span, style for the box shown on hovering the info icon */\n",
       ".sk-estimator-doc-link span {\n",
       "  display: none;\n",
       "  z-index: 9999;\n",
       "  position: relative;\n",
       "  font-weight: normal;\n",
       "  right: .2ex;\n",
       "  padding: .5ex;\n",
       "  margin: .5ex;\n",
       "  width: min-content;\n",
       "  min-width: 20ex;\n",
       "  max-width: 50ex;\n",
       "  color: var(--sklearn-color-text);\n",
       "  box-shadow: 2pt 2pt 4pt #999;\n",
       "  /* unfitted */\n",
       "  background: var(--sklearn-color-unfitted-level-0);\n",
       "  border: .5pt solid var(--sklearn-color-unfitted-level-3);\n",
       "}\n",
       "\n",
       ".sk-estimator-doc-link.fitted span {\n",
       "  /* fitted */\n",
       "  background: var(--sklearn-color-fitted-level-0);\n",
       "  border: var(--sklearn-color-fitted-level-3);\n",
       "}\n",
       "\n",
       ".sk-estimator-doc-link:hover span {\n",
       "  display: block;\n",
       "}\n",
       "\n",
       "/* \"?\"-specific style due to the `<a>` HTML tag */\n",
       "\n",
       "#sk-container-id-1 a.estimator_doc_link {\n",
       "  float: right;\n",
       "  font-size: 1rem;\n",
       "  line-height: 1em;\n",
       "  font-family: monospace;\n",
       "  background-color: var(--sklearn-color-background);\n",
       "  border-radius: 1rem;\n",
       "  height: 1rem;\n",
       "  width: 1rem;\n",
       "  text-decoration: none;\n",
       "  /* unfitted */\n",
       "  color: var(--sklearn-color-unfitted-level-1);\n",
       "  border: var(--sklearn-color-unfitted-level-1) 1pt solid;\n",
       "}\n",
       "\n",
       "#sk-container-id-1 a.estimator_doc_link.fitted {\n",
       "  /* fitted */\n",
       "  border: var(--sklearn-color-fitted-level-1) 1pt solid;\n",
       "  color: var(--sklearn-color-fitted-level-1);\n",
       "}\n",
       "\n",
       "/* On hover */\n",
       "#sk-container-id-1 a.estimator_doc_link:hover {\n",
       "  /* unfitted */\n",
       "  background-color: var(--sklearn-color-unfitted-level-3);\n",
       "  color: var(--sklearn-color-background);\n",
       "  text-decoration: none;\n",
       "}\n",
       "\n",
       "#sk-container-id-1 a.estimator_doc_link.fitted:hover {\n",
       "  /* fitted */\n",
       "  background-color: var(--sklearn-color-fitted-level-3);\n",
       "}\n",
       "</style><div id=\"sk-container-id-1\" class=\"sk-top-container\"><div class=\"sk-text-repr-fallback\"><pre>Pipeline(steps=[(&#x27;standardscaler&#x27;, StandardScaler()),\n",
       "                (&#x27;linearregression&#x27;, LinearRegression())])</pre><b>In a Jupyter environment, please rerun this cell to show the HTML representation or trust the notebook. <br />On GitHub, the HTML representation is unable to render, please try loading this page with nbviewer.org.</b></div><div class=\"sk-container\" hidden><div class=\"sk-item sk-dashed-wrapped\"><div class=\"sk-label-container\"><div class=\"sk-label fitted sk-toggleable\"><input class=\"sk-toggleable__control sk-hidden--visually\" id=\"sk-estimator-id-1\" type=\"checkbox\" ><label for=\"sk-estimator-id-1\" class=\"sk-toggleable__label fitted sk-toggleable__label-arrow\"><div><div>Pipeline</div></div><div><a class=\"sk-estimator-doc-link fitted\" rel=\"noreferrer\" target=\"_blank\" href=\"https://scikit-learn.org/1.6/modules/generated/sklearn.pipeline.Pipeline.html\">?<span>Documentation for Pipeline</span></a><span class=\"sk-estimator-doc-link fitted\">i<span>Fitted</span></span></div></label><div class=\"sk-toggleable__content fitted\"><pre>Pipeline(steps=[(&#x27;standardscaler&#x27;, StandardScaler()),\n",
       "                (&#x27;linearregression&#x27;, LinearRegression())])</pre></div> </div></div><div class=\"sk-serial\"><div class=\"sk-item\"><div class=\"sk-estimator fitted sk-toggleable\"><input class=\"sk-toggleable__control sk-hidden--visually\" id=\"sk-estimator-id-2\" type=\"checkbox\" ><label for=\"sk-estimator-id-2\" class=\"sk-toggleable__label fitted sk-toggleable__label-arrow\"><div><div>StandardScaler</div></div><div><a class=\"sk-estimator-doc-link fitted\" rel=\"noreferrer\" target=\"_blank\" href=\"https://scikit-learn.org/1.6/modules/generated/sklearn.preprocessing.StandardScaler.html\">?<span>Documentation for StandardScaler</span></a></div></label><div class=\"sk-toggleable__content fitted\"><pre>StandardScaler()</pre></div> </div></div><div class=\"sk-item\"><div class=\"sk-estimator fitted sk-toggleable\"><input class=\"sk-toggleable__control sk-hidden--visually\" id=\"sk-estimator-id-3\" type=\"checkbox\" ><label for=\"sk-estimator-id-3\" class=\"sk-toggleable__label fitted sk-toggleable__label-arrow\"><div><div>LinearRegression</div></div><div><a class=\"sk-estimator-doc-link fitted\" rel=\"noreferrer\" target=\"_blank\" href=\"https://scikit-learn.org/1.6/modules/generated/sklearn.linear_model.LinearRegression.html\">?<span>Documentation for LinearRegression</span></a></div></label><div class=\"sk-toggleable__content fitted\"><pre>LinearRegression()</pre></div> </div></div></div></div></div></div>"
      ],
      "text/plain": [
       "Pipeline(steps=[('standardscaler', StandardScaler()),\n",
       "                ('linearregression', LinearRegression())])"
      ]
     },
     "execution_count": 24,
     "metadata": {},
     "output_type": "execute_result"
    }
   ],
   "source": [
    "# fit the model\n",
    "lr.fit(X, y)"
   ]
  },
  {
   "cell_type": "code",
   "execution_count": 25,
   "metadata": {
    "colab": {
     "base_uri": "https://localhost:8080/"
    },
    "id": "4AGMvPLAhKv5",
    "outputId": "c85ff930-9626-4ff0-c952-4347ad32c881"
   },
   "outputs": [
    {
     "data": {
      "text/plain": [
       "0.9179169317954439"
      ]
     },
     "execution_count": 25,
     "metadata": {},
     "output_type": "execute_result"
    }
   ],
   "source": [
    "# checking score on test data\n",
    "lr.score(X_test,y_test)"
   ]
  },
  {
   "cell_type": "code",
   "execution_count": 26,
   "metadata": {
    "id": "Wbkip2frhNYG"
   },
   "outputs": [],
   "source": [
    "# predict on test data \n",
    "y_pred= lr.predict(X_test)"
   ]
  },
  {
   "cell_type": "markdown",
   "metadata": {
    "id": "qHGwHQHEhYRq"
   },
   "source": [
    "<h2 style=\"color:Peru;\"> Prediction </h2>"
   ]
  },
  {
   "cell_type": "code",
   "execution_count": 27,
   "metadata": {
    "id": "RfBOp32PhRD9"
   },
   "outputs": [
    {
     "name": "stdout",
     "output_type": "stream",
     "text": [
      "Predicted Profit: 97435.88239192597\n"
     ]
    },
    {
     "name": "stderr",
     "output_type": "stream",
     "text": [
      "c:\\Users\\Ramya\\AppData\\Local\\Programs\\Python\\Python39\\lib\\site-packages\\sklearn\\utils\\validation.py:2739: UserWarning: X does not have valid feature names, but StandardScaler was fitted with feature names\n",
      "  warnings.warn(\n"
     ]
    }
   ],
   "source": [
    "def predict_profit(r_d_expenses, administration_expenses, marketing_expenses, state):    \n",
    "    '''\n",
    "    predict profit function takes four arguments and \n",
    "    converts the data into the required format for prediction. \n",
    "    '''\n",
    "    \n",
    "    # Create a feature array initialized to zero\n",
    "    x = np.zeros(len(X.columns))\n",
    "    x[0] = r_d_expenses\n",
    "    x[1] = administration_expenses\n",
    "    x[2] = marketing_expenses\n",
    "    \n",
    "    # Find the state index\n",
    "    state_column = 'State_' + str(state)  # Adjusting column name to match what get_dummies would produce\n",
    "    \n",
    "    if state_column in X.columns:\n",
    "        state_index = np.where(X.columns == state_column)[0][0]\n",
    "        x[state_index] = 1\n",
    "    else:\n",
    "        raise ValueError(f\"State '{state}' is not recognized. Available states: {list(X.columns)}\")\n",
    "\n",
    "    # Make prediction\n",
    "    return lr.predict([x])[0]\n",
    "\n",
    "# Example prediction call\n",
    "try:\n",
    "    predicted_profit = predict_profit(55067.95, 102077.25, 212117.91, 'New York')\n",
    "    print(\"Predicted Profit:\", predicted_profit)\n",
    "except Exception as e:\n",
    "    print(\"Error:\", e)\n"
   ]
  },
  {
   "cell_type": "markdown",
   "metadata": {
    "id": "dSN9Q0Dph0jP"
   },
   "source": [
    "<h2 style=\"color:Peru;\"> Save Model </h2>"
   ]
  },
  {
   "cell_type": "code",
   "execution_count": 28,
   "metadata": {
    "id": "VAIWi3klhwLz"
   },
   "outputs": [],
   "source": [
    "import pickle\n",
    "# save the model for future use \n",
    "pickle.dump(lr,open('startp_profit_prediction_lr_model.pkl','wb'))"
   ]
  },
  {
   "cell_type": "code",
   "execution_count": 29,
   "metadata": {
    "id": "3_TLqfiQh-3n"
   },
   "outputs": [],
   "source": [
    "#save the data columns\n",
    "import json\n",
    "\n",
    "columns = {'data_columns' : [col.lower() for col in X.columns]}\n",
    "\n",
    "with open(\"columns.json\",\"w\") as f:\n",
    "    f.write(json.dumps(columns))"
   ]
  },
  {
   "cell_type": "code",
   "execution_count": 31,
   "metadata": {
    "id": "bwpzuin5iEnD"
   },
   "outputs": [
    {
     "name": "stdout",
     "output_type": "stream",
     "text": [
      "Distribution of the target variable (Profit):\n",
      "192261.83    1\n",
      "89949.14     1\n",
      "105008.31    1\n",
      "103282.38    1\n",
      "101004.64    1\n",
      "99937.59     1\n",
      "97483.56     1\n",
      "97427.84     1\n",
      "96778.92     1\n",
      "96712.80     1\n",
      "96479.51     1\n",
      "90708.19     1\n",
      "81229.06     1\n",
      "191792.06    1\n",
      "81005.76     1\n",
      "78239.91     1\n",
      "77798.83     1\n",
      "71498.49     1\n",
      "69758.98     1\n",
      "65200.33     1\n",
      "64926.08     1\n",
      "49490.75     1\n",
      "42559.73     1\n",
      "35673.41     1\n",
      "105733.54    1\n",
      "107404.34    1\n",
      "108552.04    1\n",
      "108733.99    1\n",
      "191050.39    1\n",
      "182901.99    1\n",
      "166187.94    1\n",
      "156991.12    1\n",
      "156122.51    1\n",
      "155752.60    1\n",
      "152211.77    1\n",
      "149759.96    1\n",
      "146121.95    1\n",
      "144259.40    1\n",
      "141585.52    1\n",
      "134307.35    1\n",
      "132602.65    1\n",
      "129917.04    1\n",
      "126992.93    1\n",
      "125370.37    1\n",
      "124266.90    1\n",
      "122776.86    1\n",
      "118474.03    1\n",
      "111313.02    1\n",
      "110352.25    1\n",
      "14681.40     1\n",
      "Name: Profit, dtype: int64\n",
      "Missing values in features:\n",
      "R&D Spend          0\n",
      "Administration     0\n",
      "Marketing Spend    0\n",
      "State_Florida      0\n",
      "State_New York     0\n",
      "dtype: int64\n",
      "Missing values in X_train:\n",
      "R&D Spend          0\n",
      "Administration     0\n",
      "Marketing Spend    0\n",
      "State_Florida      0\n",
      "State_New York     0\n",
      "dtype: int64\n",
      "Data types in X_train:\n",
      "R&D Spend          float64\n",
      "Administration     float64\n",
      "Marketing Spend    float64\n",
      "State_Florida        uint8\n",
      "State_New York       uint8\n",
      "dtype: object\n",
      "Unique values in y_train:\n",
      "[141585.52 166187.94  89949.14 152211.77 182901.99 156122.51  77798.83\n",
      "  49490.75  42559.73 129917.04 149759.96 126992.93 108552.04  96712.8\n",
      "  97483.56 192261.83  65200.33 105008.31  96778.92 156991.12 101004.64\n",
      " 144259.4   90708.19 191792.06 111313.02 191050.39  69758.98  96479.51\n",
      " 108733.99  78239.91 146121.95 110352.25 124266.9   14681.4  118474.03\n",
      " 155752.6   71498.49 132602.65 103282.38  81229.06]\n",
      "Checking for missing values before SMOTE...\n",
      "Error while applying SMOTE: Unknown label type: continuous. Maybe you are trying to fit a classifier, which expects discrete classes on a regression target with continuous values.\n"
     ]
    },
    {
     "name": "stderr",
     "output_type": "stream",
     "text": [
      "C:\\Users\\Ramya\\AppData\\Local\\Temp\\ipykernel_11452\\935359680.py:21: FutureWarning: The default value of numeric_only in DataFrame.mean is deprecated. In a future version, it will default to False. In addition, specifying 'numeric_only=None' is deprecated. Select only valid columns or specify the value of numeric_only to silence this warning.\n",
      "  data.fillna(data.mean(), inplace=True)  # Fill missing values with mean\n"
     ]
    }
   ],
   "source": [
    "# Import necessary libraries\n",
    "import pandas as pd\n",
    "import numpy as np\n",
    "from sklearn.model_selection import train_test_split, GridSearchCV, cross_val_score, StratifiedKFold\n",
    "from sklearn.ensemble import RandomForestClassifier, StackingClassifier\n",
    "from sklearn.svm import SVC\n",
    "from sklearn.neural_network import MLPClassifier\n",
    "from sklearn.preprocessing import StandardScaler\n",
    "from sklearn.metrics import accuracy_score, classification_report, roc_auc_score, confusion_matrix\n",
    "from imblearn.over_sampling import SMOTE  # For handling class imbalance\n",
    "import xgboost as xgb  # XGBoost for boosting model\n",
    "import seaborn as sns\n",
    "import matplotlib.pyplot as plt\n",
    "\n",
    "# Step 1: Load the dataset\n",
    "data = pd.read_csv('./50_Startups.csv')\n",
    "\n",
    "# Step 2: Preprocess Data\n",
    "def preprocess_data(data):\n",
    "    # Handle missing values (Impute or Drop)\n",
    "    data.fillna(data.mean(), inplace=True)  # Fill missing values with mean\n",
    "    \n",
    "    # Encode categorical variables (State)\n",
    "    data = pd.get_dummies(data, drop_first=True)  # One-hot encoding\n",
    "    \n",
    "    return data\n",
    "\n",
    "# Preprocess the data\n",
    "data = preprocess_data(data)\n",
    "\n",
    "# Step 3: Define Features (X) and Target (y)\n",
    "X = data.drop('Profit', axis=1)  # Ensure 'Profit' is the correct column representing profitability\n",
    "y = data['Profit']\n",
    "\n",
    "# Check the distribution of the target variable y\n",
    "print(\"Distribution of the target variable (Profit):\")\n",
    "print(y.value_counts())\n",
    "\n",
    "# Check for missing values in the features\n",
    "print(\"Missing values in features:\")\n",
    "print(X.isnull().sum())\n",
    "\n",
    "# Step 4: Train-Test Split\n",
    "X_train, X_test, y_train, y_test = train_test_split(X, y, test_size=0.2, random_state=42)\n",
    "\n",
    "# Check for missing values in training data\n",
    "print(\"Missing values in X_train:\")\n",
    "print(X_train.isnull().sum())\n",
    "\n",
    "# Check data types of the features\n",
    "print(\"Data types in X_train:\")\n",
    "print(X_train.dtypes)\n",
    "\n",
    "# Check unique values in target variable\n",
    "print(\"Unique values in y_train:\")\n",
    "print(y_train.unique())\n",
    "\n",
    "# Step 5: Handling Class Imbalance Using SMOTE on training data only\n",
    "# Check that no missing values exist in X_train before applying SMOTE\n",
    "print(\"Checking for missing values before SMOTE...\")\n",
    "if X_train.isnull().values.any():\n",
    "    print(\"X_train contains missing values!\")\n",
    "else:\n",
    "    # Apply SMOTE only if there are no missing values\n",
    "    smote = SMOTE(random_state=42)\n",
    "    \n",
    "    try:\n",
    "        X_train_smote, y_train_smote = smote.fit_resample(X_train, y_train)\n",
    "        print(\"SMOTE applied successfully.\")\n",
    "    except ValueError as e:\n",
    "        print(\"Error while applying SMOTE:\", e)\n",
    "\n",
    "# If SMOTE was successful, proceed with scaling\n",
    "if 'X_train_smote' in locals():\n",
    "    # Step 6: Scaling Features\n",
    "    scaler = StandardScaler()\n",
    "    X_train_smote = scaler.fit_transform(X_train_smote)\n",
    "    X_test = scaler.transform(X_test)\n",
    "\n",
    "    # Step 7: Define Models for Stacking\n",
    "    rf_model = RandomForestClassifier(random_state=42)\n",
    "    svm_model = SVC(probability=True, random_state=42)\n",
    "    mlp_model = MLPClassifier(random_state=42)\n",
    "\n",
    "    # XGBoost model\n",
    "    xgboost_model = xgb.XGBClassifier(use_label_encoder=False, eval_metric='mlogloss', random_state=42)\n",
    "\n",
    "    # Base models for stacking\n",
    "    estimators = [\n",
    "        ('rf', rf_model),\n",
    "        ('svm', svm_model),\n",
    "        ('mlp', mlp_model)\n",
    "    ]\n",
    "\n",
    "    # Define Stacking Model with XGBoost as the final classifier\n",
    "    stacking_model = StackingClassifier(\n",
    "        estimators=estimators,\n",
    "        final_estimator=xgboost_model,\n",
    "        cv=5\n",
    "    )\n",
    "\n",
    "    # Step 8: Hyperparameter Tuning for XGBoost using GridSearchCV\n",
    "    param_grid = {\n",
    "        'n_estimators': [100, 200, 300],\n",
    "        'max_depth': [3, 5, 7],\n",
    "        'learning_rate': [0.01, 0.1, 0.2],\n",
    "        'subsample': [0.8, 1.0]\n",
    "    }\n",
    "\n",
    "    grid_search = GridSearchCV(estimator=xgboost_model, param_grid=param_grid, cv=3, n_jobs=-1, verbose=2)\n",
    "    grid_search.fit(X_train_smote, y_train_smote)\n",
    "\n",
    "    # Best parameters from Grid Search\n",
    "    best_params = grid_search.best_params_\n",
    "    print(f'Best Hyperparameters for XGBoost: {best_params}')\n",
    "\n",
    "    # Train Stacking Model with Optimized XGBoost\n",
    "    stacking_model.fit(X_train_smote, y_train_smote)\n",
    "\n",
    "    # Step 9: Model Evaluation\n",
    "    y_pred = stacking_model.predict(X_test)\n",
    "\n",
    "    # Evaluate the model performance\n",
    "    accuracy = accuracy_score(y_test, y_pred)\n",
    "    roc_auc = roc_auc_score(y_test, y_pred)\n",
    "    print(f'Accuracy: {accuracy}')\n",
    "    print(f'ROC-AUC Score: {roc_auc}')\n",
    "    print(classification_report(y_test, y_pred))\n",
    "\n",
    "    # Confusion Matrix\n",
    "    conf_matrix = confusion_matrix(y_test, y_pred)\n",
    "    sns.heatmap(conf_matrix, annot=True, fmt='d', cmap='Blues')\n",
    "    plt.title('Confusion Matrix')\n",
    "    plt.xlabel('Predicted')\n",
    "    plt.ylabel('Actual')\n",
    "    plt.show()\n",
    "\n",
    "    # Step 10: Cross-Validation to Ensure Generalization\n",
    "    cv = StratifiedKFold(n_splits=5, shuffle=True, random_state=42)\n",
    "    cv_scores = cross_val_score(stacking_model, X_train_smote, y_train_smote, cv=cv, scoring='accuracy')\n",
    "    print(f'Cross-Validation Accuracy Scores: {cv_scores}')\n",
    "    print(f'Mean Cross-Validation Accuracy: {np.mean(cv_scores)}')\n",
    "\n"
   ]
  },
  {
   "cell_type": "code",
   "execution_count": 32,
   "metadata": {},
   "outputs": [
    {
     "name": "stderr",
     "output_type": "stream",
     "text": [
      "C:\\Users\\Ramya\\AppData\\Local\\Temp\\ipykernel_11452\\3196725715.py:15: FutureWarning: The default value of numeric_only in DataFrame.mean is deprecated. In a future version, it will default to False. In addition, specifying 'numeric_only=None' is deprecated. Select only valid columns or specify the value of numeric_only to silence this warning.\n",
      "  data.fillna(data.mean(), inplace=True)  # Fill missing values with mean\n"
     ]
    },
    {
     "name": "stdout",
     "output_type": "stream",
     "text": [
      "Missing values in X_train:\n",
      "R&D Spend          0\n",
      "Administration     0\n",
      "Marketing Spend    0\n",
      "State_Florida      0\n",
      "State_New York     0\n",
      "dtype: int64\n",
      "Mean Absolute Error: 6129.244519999981\n",
      "Mean Squared Error: 70520613.36591527\n",
      "R² Score: 0.9129151597594712\n"
     ]
    },
    {
     "data": {
      "image/png": "[encoded data removed]",
      "text/plain": [
       "<Figure size 1200x600 with 1 Axes>"
      ]
     },
     "metadata": {},
     "output_type": "display_data"
    },
    {
     "data": {
      "image/png": "[encoded data removed]",
      "text/plain": [
       "<Figure size 1000x600 with 1 Axes>"
      ]
     },
     "metadata": {},
     "output_type": "display_data"
    }
   ],
   "source": [
    "# Import necessary libraries\n",
    "import pandas as pd\n",
    "import numpy as np\n",
    "import matplotlib.pyplot as plt\n",
    "import seaborn as sns\n",
    "from sklearn.model_selection import train_test_split, GridSearchCV\n",
    "from sklearn.ensemble import RandomForestRegressor\n",
    "from sklearn.metrics import mean_absolute_error, mean_squared_error, r2_score\n",
    "\n",
    "# Load the dataset\n",
    "data = pd.read_csv('./50_Startups.csv')\n",
    "\n",
    "# Preprocess Data\n",
    "def preprocess_data(data):\n",
    "    data.fillna(data.mean(), inplace=True)  # Fill missing values with mean\n",
    "    data = pd.get_dummies(data, drop_first=True)  # One-hot encoding\n",
    "    return data\n",
    "\n",
    "data = preprocess_data(data)\n",
    "\n",
    "# Define Features (X) and Target (y)\n",
    "X = data.drop('Profit', axis=1)\n",
    "y = data['Profit']\n",
    "\n",
    "# Train-Test Split\n",
    "X_train, X_test, y_train, y_test = train_test_split(X, y, test_size=0.2, random_state=42)\n",
    "\n",
    "# Check for missing values in training data\n",
    "print(\"Missing values in X_train:\")\n",
    "print(X_train.isnull().sum())\n",
    "\n",
    "# Fit Random Forest Regressor\n",
    "rf_model = RandomForestRegressor(random_state=42)\n",
    "param_grid = {\n",
    "    'n_estimators': [100, 200],\n",
    "    'max_depth': [10, 20, None],\n",
    "    'min_samples_split': [2, 5],\n",
    "}\n",
    "\n",
    "# Perform grid search\n",
    "grid_search = GridSearchCV(estimator=rf_model, param_grid=param_grid, cv=5, n_jobs=-1)\n",
    "grid_search.fit(X_train, y_train)\n",
    "\n",
    "# Get the best model\n",
    "best_rf_model = grid_search.best_estimator_\n",
    "\n",
    "# Make predictions\n",
    "y_pred = best_rf_model.predict(X_test)\n",
    "\n",
    "# Evaluate the model\n",
    "mae = mean_absolute_error(y_test, y_pred)\n",
    "mse = mean_squared_error(y_test, y_pred)\n",
    "r2 = r2_score(y_test, y_pred)\n",
    "\n",
    "print(f'Mean Absolute Error: {mae}')\n",
    "print(f'Mean Squared Error: {mse}')\n",
    "print(f'R² Score: {r2}')\n",
    "\n",
    "# Feature Importance Plot\n",
    "plt.figure(figsize=(12, 6))\n",
    "importance = best_rf_model.feature_importances_\n",
    "feature_names = X.columns\n",
    "indices = np.argsort(importance)[::-1]\n",
    "\n",
    "plt.title(\"Feature Importance\")\n",
    "plt.bar(range(X.shape[1]), importance[indices], align=\"center\")\n",
    "plt.xticks(range(X.shape[1]), feature_names[indices], rotation=90)\n",
    "plt.xlim([-1, X.shape[1]])\n",
    "plt.show()\n",
    "\n",
    "# Actual vs Predicted Scatter Plot\n",
    "plt.figure(figsize=(10, 6))\n",
    "plt.scatter(y_test, y_pred, alpha=0.7)\n",
    "plt.plot([y.min(), y.max()], [y.min(), y.max()], 'r--')  # Line of perfect prediction\n",
    "plt.xlabel('Actual Profit')\n",
    "plt.ylabel('Predicted Profit')\n",
    "plt.title('Actual vs Predicted Profit')\n",
    "plt.grid()\n",
    "plt.show()\n"
   ]
  }
 ],
 "metadata": {
  "accelerator": "TPU",
  "colab": {
   "collapsed_sections": [
    "EWAMghG37Bdv"
   ],
   "name": "Startup-Business-Profit-Prediction-Colab.ipynb",
   "provenance": []
  },
  "kernelspec": {
   "display_name": "Python 3",
   "language": "python",
   "name": "python3"
  },
  "language_info": {
   "codemirror_mode": {
    "name": "ipython",
    "version": 3
   },
   "file_extension": ".py",
   "mimetype": "text/x-python",
   "name": "python",
   "nbconvert_exporter": "python",
   "pygments_lexer": "ipython3",
   "version": "3.9.5"
  }
 },
 "nbformat": 4,
 "nbformat_minor": 1
}
